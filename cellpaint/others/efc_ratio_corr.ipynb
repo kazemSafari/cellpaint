{
 "cells": [
  {
   "cell_type": "code",
   "execution_count": 35,
   "id": "d436a561",
   "metadata": {},
   "outputs": [],
   "source": [
    "from cellpaint.utils.args import CellPaintArgs\n",
    "from cellpaint.utils.helpers_post_feature_extraction import FeaturePreprocessing as FP\n",
    "\n",
    "import pandas as pd\n",
    "import numpy as np\n",
    "import scipy.stats as scstats\n",
    "import matplotlib.pyplot as plt\n",
    "\n",
    "\n",
    "from pathlib import WindowsPath"
   ]
  },
  {
   "cell_type": "code",
   "execution_count": 23,
   "id": "61854ed0",
   "metadata": {},
   "outputs": [],
   "source": [
    "# experiment = \"20221116-CP-Fabio-DRC-BM-P02\" \n",
    "experiment = \"20230119-CP-Fabio-QCcelllines-EXP01\"\n",
    "# args = CellPaintArgs(\n",
    "#     experiment=experiment,\n",
    "#     main_path=\"F:\\\\CellPainting\",\n",
    "#     mode=\"full\",).args\n",
    "# print(f\"{args.experiment}\")\n",
    "main_path= WindowsPath(\"F:\\\\CellPainting\")\n",
    "feats_path = main_path/experiment/\"Step3_Features\"\n",
    "min_well_cell_count = 100\n",
    "quantile_range = (2, 98)"
   ]
  },
  {
   "cell_type": "code",
   "execution_count": 24,
   "id": "9a39c36e",
   "metadata": {},
   "outputs": [],
   "source": [
    "features, start_index = FP.load_and_preprocess_features(feats_path, min_well_cell_count)\n",
    "features = FP.normalize_features(features, start_index, quantile_range)"
   ]
  },
  {
   "cell_type": "code",
   "execution_count": 31,
   "id": "07e674a6",
   "metadata": {},
   "outputs": [],
   "source": [
    "dmso=features.loc[features[\"treatment\"]==\"dmso\"]\n",
    "feat_cols = np.setdiff1d(list(dmso.columns)[start_index:], \"Nucleus_Shapes_efc-ratio\")\n",
    "efc_ratio = dmso[\"Nucleus_Shapes_efc-ratio\"]"
   ]
  },
  {
   "cell_type": "code",
   "execution_count": 32,
   "id": "cae72002",
   "metadata": {},
   "outputs": [
    {
     "name": "stdout",
     "output_type": "stream",
     "text": [
      "['bt474' 'mcf10a' 'mcf7' 'mdamb231' 'mdamb453' 'skbr3' 't47d' 'u2os']\n"
     ]
    }
   ],
   "source": [
    "celllines = np.unique(dmso[\"cell-line\"])\n",
    "print(celllines)\n",
    "M = len(celllines)\n",
    "K = len(feat_cols)"
   ]
  },
  {
   "cell_type": "code",
   "execution_count": 43,
   "id": "8ede0630",
   "metadata": {},
   "outputs": [],
   "source": [
    "corr_mat = np.zeros((M, K), dtype=np.float32)\n",
    "for ii, it in enumerate(celllines):\n",
    "    cond = dmso[\"cell-line\"] == it\n",
    "#     corr = np.corrcoef(efc_ratio.loc[cond].to_numpy(), dmso[feat_cols[0]].loc[cond].to_numpy())[0, 1]\n",
    "#     print(corr)\n",
    "    corr_mat[ii] = [np.corrcoef(efc_ratio.loc[cond].to_numpy(), dmso[feat_cols[jj]].loc[cond].to_numpy())[0, 1]\n",
    "                   for jj in range(K)]"
   ]
  },
  {
   "cell_type": "code",
   "execution_count": null,
   "id": "e304c508",
   "metadata": {},
   "outputs": [],
   "source": []
  }
 ],
 "metadata": {
  "kernelspec": {
   "display_name": "Python 3 (ipykernel)",
   "language": "python",
   "name": "python3"
  },
  "language_info": {
   "codemirror_mode": {
    "name": "ipython",
    "version": 3
   },
   "file_extension": ".py",
   "mimetype": "text/x-python",
   "name": "python",
   "nbconvert_exporter": "python",
   "pygments_lexer": "ipython3",
   "version": "3.8.15"
  }
 },
 "nbformat": 4,
 "nbformat_minor": 5
}
